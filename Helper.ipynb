{
 "cells": [
  {
   "cell_type": "code",
   "execution_count": 1,
   "metadata": {},
   "outputs": [],
   "source": [
    "import pandas as pd\n",
    "import numpy as np\n",
    "import imblearn\n",
    "from sklearn.model_selection import StratifiedKFold"
   ]
  },
  {
   "cell_type": "markdown",
   "metadata": {},
   "source": [
    "### Making few helper function that will be used in main file"
   ]
  },
  {
   "cell_type": "code",
   "execution_count": 2,
   "metadata": {},
   "outputs": [],
   "source": [
    "# A function that will handle class imbalance\n",
    "\n",
    "def handle_classimbalance(data):\n",
    "    # Making two temporary separations\n",
    "    X_temp = data.iloc[:,:-1]\n",
    "    Y_temp = data.iloc[:,-1]\n",
    "    #Applying SMOTE on the training data\n",
    "    smote = imblearn.over_sampling.SMOTE(sampling_strategy=1.0, k_neighbors=5)\n",
    "    X_temp, Y_temp = smote.fit_resample(X_temp, Y_temp)\n",
    "    data = pd.concat([X_temp, Y_temp], axis=1)\n",
    "    return data"
   ]
  },
  {
   "cell_type": "code",
   "execution_count": 3,
   "metadata": {},
   "outputs": [],
   "source": [
    "# A custom function to remove outliers from the dataset\n",
    "def removeOutliers(data, col):\n",
    "    Q3 = np.quantile(data[col], 0.75)\n",
    "    Q1 = np.quantile(data[col], 0.25)\n",
    "    IQR = Q3 - Q1\n",
    "      \n",
    "    global outlier_free_list\n",
    "    global filtered_data\n",
    "      \n",
    "    lower_range = Q1 - 1.5 * IQR\n",
    "    upper_range = Q3 + 1.5 * IQR\n",
    "    outlier_free_list = [x for x in data[col] if (\n",
    "        (x > lower_range) & (x < upper_range))]\n",
    "    filtered_data = data.loc[data[col].isin(outlier_free_list)]\n",
    "    return filtered_data"
   ]
  },
  {
   "cell_type": "code",
   "execution_count": 4,
   "metadata": {},
   "outputs": [],
   "source": [
    "# A function to split original data into training an\n",
    "\n",
    "def TrainTestSet(data):\n",
    "    # Dividing data into 5 splits using stratified kfold\n",
    "    data['kfold']=-1\n",
    "    data = data.sample(frac=1).reset_index(drop=True)\n",
    "    y = data.Customer_Attrition.values\n",
    "\n",
    "    kf = StratifiedKFold(n_splits=5)\n",
    "\n",
    "    for f,(t_,v_) in enumerate(kf.split(X=data,y=y)):\n",
    "        data.loc[v_,'kfold']=f\n",
    "\n",
    "    data.to_csv('folds.csv',index=False)\n",
    "\n",
    "    # First four folds will be used for training and last fold will be used for making the test set \n",
    "\n",
    "    df = pd.read_csv('folds.csv')\n",
    "    train_data = df.loc[df['kfold']!=4]\n",
    "    train_data.drop('kfold',axis=1,inplace=True)\n",
    "    print(\"Shape of training data is: \",train_data.shape)\n",
    "    test_data = df.loc[df['kfold']==4]\n",
    "    test_data.drop('kfold',axis=1,inplace=True)\n",
    "    print(\"Shape of testing data is: \",test_data.shape)\n",
    "    return train_data,test_data"
   ]
  },
  {
   "cell_type": "code",
   "execution_count": null,
   "metadata": {},
   "outputs": [],
   "source": []
  }
 ],
 "metadata": {
  "kernelspec": {
   "display_name": "Python 3",
   "language": "python",
   "name": "python3"
  },
  "language_info": {
   "codemirror_mode": {
    "name": "ipython",
    "version": 3
   },
   "file_extension": ".py",
   "mimetype": "text/x-python",
   "name": "python",
   "nbconvert_exporter": "python",
   "pygments_lexer": "ipython3",
   "version": "3.8.3"
  }
 },
 "nbformat": 4,
 "nbformat_minor": 4
}
